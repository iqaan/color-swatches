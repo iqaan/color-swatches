{
 "cells": [
  {
   "cell_type": "markdown",
   "id": "6aad6cf5",
   "metadata": {},
   "source": [
    "# Extracting color from an image (theory)\n",
    "\n",
    "This program takes an image as an input and attempts to extract a good looking color from that image which can be used to as an accent color for the UI surrounding the image.<br/>\n",
    "<br/>\n",
    "Here are the steps:<br/>\n",
    "<br/>\n",
    "\n",
    "### Step 1: Weighted average of colors\n",
    "To compute the average color of the image or a part of the image, we used weighted average.<br/>\n",
    "<br/>\n",
    "A pixels weight is computed by two values:\n",
    "- How close it is to 50% luminacnce (that is, give lesser weight to pixels that are too bright or too dark).\n",
    "- How vibrant the pixel is (more saturation gets more weight)<br/><br/>\n",
    "(We can control the effect of luminance and saturation using parameters listed below).<br/>\n",
    "<br/>\n",
    "\n",
    "### Step 2: Swatches\n",
    "This is most of simple of the steps. It is essentially, breaking down of the image in n x n, sub-images, and then computing weighted average of each sub-iamge individually.<br/>\n",
    "(We also compute the weighted average of all swatches, this is later used to compute most frequently seen color).<br/>\n",
    "<br/>\n",
    "\n",
    "### Step 3: Selecting best swatch\n",
    "Once we have the list of swatches, (and their average), we compute following 3 values:\n",
    "- **L_factor**: This value gives us how close a swatch is to 50% luminance\n",
    "- **S_factor**: This value computes how vibrant a swatch is (multplied by a power of L_factor to avoid giving too much attention to too dark or too bright colors which have high saturation).\n",
    "- **D_factor**: Computes how close the hue of the color is to the overall average of all swatches. (It essentially tells how dominant a color is in the image).<br/><br/>\n",
    "These three values are then combined in a single value using the function `f1` which simply computes parametered sum of these 3 values.<br/>\n",
    "<br/>\n",
    "\n",
    "### Step 4: Transformation\n",
    "Once we have the best swatch color, the final output can be manipulated in any way possible. We here present the option to select the luminance range, and saturation multiplier. These settings should enable the selected color to blend-in with the UI.\n"
   ]
  },
  {
   "cell_type": "markdown",
   "id": "aa58ad6d",
   "metadata": {},
   "source": [
    "# Parameters\n",
    "<br />\n",
    "\n",
    "##### No. of swatches\n",
    "`n` = No. of swatches made are n x n<br />\n",
    "<br />\n",
    "\n",
    "##### Parameters used for calculating average color of pixels (ranging from 0.0 to1.0)\n",
    "`avg_s_weight` = Weight given to saturation of a pixel when calculating average color<br />\n",
    "\\* Pixel with 50% luminance gets highest weight.<br />\n",
    "`avg_l_weight` = Weight given to luminance of a pixel when calculating average color *<br />\n",
    "<br />\n",
    "##### Parameters used for choosing best-swatch (ranging from 0.0 to1.0)\n",
    "`L_weight` = Weight given to brightness/luminance of a swatch when choosing best swatch<br />\n",
    "\\* Swatch with 50% luminance gets highest preference.<br />\n",
    "`S_weight` = Weight given to saturation of a swatch when choosing best swatch<br />\n",
    "`D_weight` = Weight given to the dominance of a swatch when choosing best swatch<br />\n",
    "\\* Dominance measures how close a swatch is to average color (how dominant a color is)<br />\n",
    "<br />\n",
    "##### Parameters used for transforming best-swatch to output\n",
    "`L_min_threshold` = Min. luminance required for output color (0 - 255)<br />\n",
    "`L_max_threshold` = Max. luminance required for output color (0 - 255)<br />\n",
    "`S_value` = Saturation multiplier for output color (0.0 - 1.0)<br />"
   ]
  },
  {
   "cell_type": "code",
   "execution_count": null,
   "id": "db549412",
   "metadata": {},
   "outputs": [],
   "source": [
    "import numpy as np\n",
    "import math\n",
    "from utils import display,compare,hls2rgb,read_image_hls\n",
    "\n",
    "%matplotlib inline"
   ]
  },
  {
   "cell_type": "code",
   "execution_count": null,
   "id": "da97e545",
   "metadata": {},
   "outputs": [],
   "source": [
    "n = 12 # no. of swatches\n",
    "\n",
    "# Parameters for averaging\n",
    "avg_s_weight = 0.3 # weight given to saturation of a color when computing averages\n",
    "avg_l_weight = 0.7 # weight given to luminance (50% means highest) of a color when computing averages\n",
    "\n",
    "# Parameters for choosing best-swatch\n",
    "L_weight = 0.2\n",
    "S_weight = 0.6\n",
    "D_weight = 0.2\n",
    "\n",
    "# Parameters used while transforming\n",
    "L_min_threshold = 48\n",
    "L_max_threshold = 128\n",
    "S_value = 1.0"
   ]
  },
  {
   "cell_type": "code",
   "execution_count": null,
   "id": "2d6e7a76",
   "metadata": {},
   "outputs": [],
   "source": [
    "sample_dir = 'albumarts/'\n",
    "img_name = \"art-1.png\"\n",
    "test_image_path = sample_dir + img_name"
   ]
  },
  {
   "cell_type": "markdown",
   "id": "890b3892",
   "metadata": {},
   "source": [
    "# Average Color"
   ]
  },
  {
   "cell_type": "code",
   "execution_count": null,
   "id": "6cd10183",
   "metadata": {},
   "outputs": [],
   "source": [
    "def get_weights(hls_image, w_s = avg_s_weight, w_l = avg_l_weight):\n",
    "    l_weights = (w_l * (1. - abs(hls_image[:,:,1] - 127.5) / 127.5))\n",
    "    s_weights = (w_s * (hls_image[:,:,2] / 255))\n",
    "    weights = l_weights + s_weights + (1 - (w_l + w_s)/2)\n",
    "    return weights"
   ]
  },
  {
   "cell_type": "code",
   "execution_count": null,
   "id": "9409bdd6",
   "metadata": {},
   "outputs": [],
   "source": [
    "def get_weighted_average_color(hls_image, w_s = avg_s_weight, w_l = avg_l_weight, EPSILON = 10e-6):\n",
    "    weights = get_weights(hls_image, w_s=w_s, w_l=w_l)\n",
    "    A1 = hls_image * weights[..., np.newaxis]\n",
    "    A2 = np.sum(A1, axis=0)\n",
    "    A3 = np.sum(A2, axis=0)\n",
    "    A4 = A3 / (np.sum(weights) + EPSILON)\n",
    "    return A4.reshape(1,1,3).astype('uint8')"
   ]
  },
  {
   "cell_type": "code",
   "execution_count": null,
   "id": "bb5c3c5a",
   "metadata": {},
   "outputs": [],
   "source": [
    "test_image_hls = read_image_hls(test_image_path)\n",
    "\n",
    "display(hls2rgb(test_image_hls), dpi=80)\n",
    "display(get_weights(test_image_hls), cmap=\"gray\", vmin=0., vmax=1., dpi=80)\n",
    "\n",
    "i0  = hls2rgb(get_weighted_average_color(test_image_hls, w_s=0, w_l=0))\n",
    "i70 = hls2rgb(get_weighted_average_color(test_image_hls, w_s=0.3, w_l=0.7))\n",
    "i100 = hls2rgb(get_weighted_average_color(test_image_hls, w_s=1., w_l=1.))\n",
    "\n",
    "compare([i0, i70, i100], labels=[\"Normal average\", \"30%/70% sat./lum. weights\", \"100%/100% sat./lum. weights\"])"
   ]
  },
  {
   "cell_type": "markdown",
   "id": "e65ba5b5",
   "metadata": {},
   "source": [
    "# Swatches"
   ]
  },
  {
   "cell_type": "code",
   "execution_count": null,
   "id": "a3a40535",
   "metadata": {},
   "outputs": [],
   "source": [
    "def get_swatches(hls_image, num_swatches):\n",
    "    s = num_swatches\n",
    "    image = hls_image\n",
    "    \n",
    "    EPSILON = 10e-6\n",
    "    \n",
    "    width = image.shape[1]\n",
    "    height = image.shape[0]\n",
    "    \n",
    "    base_w = math.floor(width / s)\n",
    "    base_h = math.floor(height / s)\n",
    "\n",
    "    boxes = []\n",
    "\n",
    "    for row in range(s):\n",
    "        for col in range(s):\n",
    "            base_w_adjusted = math.ceil(width / s) if (col + 1 == s) else base_w\n",
    "            base_h_adjusted = math.ceil(height / s) if (row + 1 == s) else base_h\n",
    "\n",
    "            slice_w = slice(col * base_w, (col + 1) * base_w_adjusted)\n",
    "            slice_h = slice(row * base_h, (row + 1) * base_h_adjusted)\n",
    "\n",
    "            boxes.append(image[slice_h, slice_w, :])\n",
    "    \n",
    "    swatches = np.array([]).reshape(0).astype('uint8')\n",
    "    \n",
    "    for b in boxes:\n",
    "        swatch_color = get_weighted_average_color(b).reshape(3)\n",
    "        swatches = np.append(swatches, swatch_color, axis=0)\n",
    "\n",
    "    swatches = swatches.reshape(s, s, 3).astype('uint8')\n",
    "    \n",
    "    return swatches\n"
   ]
  },
  {
   "cell_type": "code",
   "execution_count": null,
   "id": "d631a5b2",
   "metadata": {},
   "outputs": [],
   "source": [
    "test_hls = read_image_hls(test_image_path)\n",
    "test_swatches = get_swatches(test_hls, n)\n",
    "\n",
    "compare([hls2rgb(test_swatches), hls2rgb(get_weighted_average_color(test_swatches))], labels=[\"Swatches\", \"Average of swatches\"])\n",
    "display(get_weights(test_swatches), cmap=\"gray\", vmin=0., vmax=1., dpi=80)"
   ]
  },
  {
   "cell_type": "markdown",
   "id": "2f20d60a",
   "metadata": {},
   "source": [
    "# Best swatch"
   ]
  },
  {
   "cell_type": "code",
   "execution_count": null,
   "id": "6cae9318",
   "metadata": {},
   "outputs": [],
   "source": [
    "def f1(L, S, D):\n",
    "    return (L_weight * L) + (S_weight * S) + (D_weight * D)"
   ]
  },
  {
   "cell_type": "code",
   "execution_count": null,
   "id": "bd16854f",
   "metadata": {},
   "outputs": [],
   "source": [
    "def get_best_swatch(swatches):\n",
    "    s = swatches.shape[0]\n",
    "    avg_color = get_weighted_average_color(swatches).reshape(3)\n",
    "    \n",
    "    EPSILON = 10e-6\n",
    "    \n",
    "    max_value = 0\n",
    "    best_swatch = np.array([0, 0, 0])\n",
    "\n",
    "    for row in range(s):\n",
    "        for col in range(s):\n",
    "            swatch = swatches[row][col]\n",
    "            H,L,S = swatch\n",
    "            \n",
    "            # puts penalty if color is too bright or too dark\n",
    "            L_factor = 1. - (abs(L - 127.5) / 127.5)\n",
    "            \n",
    "            # encourages vibrant colors\n",
    "            S_factor = L_factor**L_weight * S / 255\n",
    "            \n",
    "            # prefers color which is more dominant (closer to average color)\n",
    "            D_factor = 1. - (abs(H.astype('int16') - avg_color[0]) / 255)\n",
    "\n",
    "            value = f1(L_factor, S_factor, D_factor)\n",
    "\n",
    "            if (value > max_value):\n",
    "                best_swatch = swatch\n",
    "                max_value = value\n",
    "\n",
    "    best_swatch = best_swatch.reshape(1, 1, 3).astype('uint8')\n",
    "    \n",
    "    return best_swatch\n"
   ]
  },
  {
   "cell_type": "code",
   "execution_count": null,
   "id": "28ceeded",
   "metadata": {},
   "outputs": [],
   "source": [
    "test_best_swatch = get_best_swatch(test_swatches)\n",
    "display(hls2rgb(test_best_swatch))"
   ]
  },
  {
   "cell_type": "markdown",
   "id": "5e592903",
   "metadata": {},
   "source": [
    "# Transformation"
   ]
  },
  {
   "cell_type": "code",
   "execution_count": null,
   "id": "fb948bda",
   "metadata": {},
   "outputs": [],
   "source": [
    "def get_transformed_color(best_swatch):\n",
    "    H,L,S = best_swatch.reshape(3,)\n",
    "    \n",
    "    # use same hue as original color\n",
    "    H1 = H\n",
    "    \n",
    "    # transform 0-255 luminance range to parameterd min-max range\n",
    "    L_hat = L_min_threshold + (L_max_threshold - L_min_threshold) * (L / 255)\n",
    "    \n",
    "    # prefer original luminance if saturation is very high\n",
    "    # otherwise prefer the transformed luminance value, for duller colors\n",
    "    L1 = (1 - S/255) * (L_hat) + (S/255)*(L)\n",
    "    \n",
    "    # transform saturation (multiply by some factor)\n",
    "    S1 = min(255, S * S_value)\n",
    "\n",
    "    picked_color = np.array([H1, L1, S1]).reshape(1,1,3).astype('uint8')\n",
    "    \n",
    "    return picked_color"
   ]
  },
  {
   "cell_type": "code",
   "execution_count": null,
   "id": "a13d9bdf",
   "metadata": {},
   "outputs": [],
   "source": [
    "test_output_color = get_transformed_color(test_best_swatch)"
   ]
  },
  {
   "cell_type": "code",
   "execution_count": null,
   "id": "61951406",
   "metadata": {},
   "outputs": [],
   "source": [
    "print(f\"Best swatch (HLS): {test_best_swatch}\")\n",
    "print(f\"Final output (HLS): {test_output_color}\")\n",
    "display(hls2rgb(test_output_color))"
   ]
  },
  {
   "cell_type": "markdown",
   "id": "c5dfafe3",
   "metadata": {},
   "source": [
    "# Testing"
   ]
  },
  {
   "cell_type": "code",
   "execution_count": null,
   "id": "1379640f",
   "metadata": {},
   "outputs": [],
   "source": [
    "files = [f\"albumarts/art-{a}.png\" for a in range(1,16)]"
   ]
  },
  {
   "cell_type": "code",
   "execution_count": null,
   "id": "ddc8d096",
   "metadata": {
    "scrolled": true
   },
   "outputs": [],
   "source": [
    "for file in files:\n",
    "    image = read_image_hls(file)\n",
    "    swatches = get_swatches(image, n)\n",
    "    best_swatch = get_best_swatch(swatches)\n",
    "    picked_color = get_transformed_color(best_swatch)\n",
    "    picked_color_rgb = hls2rgb(picked_color)\n",
    "    \n",
    "    compare([hls2rgb(image), picked_color_rgb])"
   ]
  },
  {
   "cell_type": "code",
   "execution_count": null,
   "id": "8f501fb0",
   "metadata": {},
   "outputs": [],
   "source": []
  },
  {
   "cell_type": "code",
   "execution_count": null,
   "id": "8a8d7b41",
   "metadata": {},
   "outputs": [],
   "source": []
  }
 ],
 "metadata": {
  "kernelspec": {
   "display_name": "Python 3 (ipykernel)",
   "language": "python",
   "name": "python3"
  },
  "language_info": {
   "codemirror_mode": {
    "name": "ipython",
    "version": 3
   },
   "file_extension": ".py",
   "mimetype": "text/x-python",
   "name": "python",
   "nbconvert_exporter": "python",
   "pygments_lexer": "ipython3",
   "version": "3.8.2"
  }
 },
 "nbformat": 4,
 "nbformat_minor": 5
}
