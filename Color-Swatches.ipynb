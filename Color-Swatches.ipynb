{
 "cells": [
  {
   "cell_type": "markdown",
   "id": "6aad6cf5",
   "metadata": {},
   "source": [
    "# Extracting color from an image (theory)\n",
    "\n",
    "This program takes an image as an input and attempts to extract a good looking color from that image which can be used to as an accent color for the UI surrounding the image.<br/>\n",
    "<br/>\n",
    "Here are the steps:<br/>\n",
    "<br/>\n",
    "\n",
    "### Step 1: Weighted average of colors\n",
    "To compute the average color of the image or a part of the image, we used weighted average.<br/>\n",
    "<br/>\n",
    "A pixels weight is computed by:\n",
    "- How close it is to 50% luminacnce (that is, give lesser weight to pixels that are too bright or too dark).\n",
    "- How vivid the color is (that is, more the saturation more the weight will be given to the pixel).\n",
    "(The degree of this effect can be controlled by a parameter in this program) \n",
    "<br/>\n",
    "\n",
    "### Step 2: Swatches\n",
    "This is most of simple of the steps. It is essentially, breaking down of the image in n x n, sub-images, and then computing weighted average of each sub-iamge individually.<br/>\n",
    "(We also compute the weighted average of all swatches, this is later used to compute most frequently seen color).<br/>\n",
    "<br/>\n",
    "\n",
    "### Step 3: Selecting best swatch\n",
    "Once we have the list of swatches, (and their average), we compute following 3 values:\n",
    "- **L_factor**: This value gives us how close a swatch is to 50% luminance\n",
    "- **S_factor**: This value computes how vibrant a swatch is.\n",
    "- **D_factor**: Computes how close the hue of the color is to the overall average of all swatches. (It essentially tells how dominant a color is in the image).<br/><br/>\n",
    "These three values are then combined in a single `value` using the function `v(sqrt(L*S)) + (1-v)D`, where `v` is a control parameter.<br/>\n",
    "<br/>\n",
    "\n",
    "### Step 4: Transformation\n",
    "Once we have the best swatch color, the final output can be manipulated in any way possible. We here present the option to select the luminance range, and saturation multiplier. These settings should enable the selected color to blend-in with the UI.\n"
   ]
  },
  {
   "cell_type": "markdown",
   "id": "aa58ad6d",
   "metadata": {},
   "source": [
    "# Parameters\n",
    "<br />\n",
    "\n",
    "##### No. of swatches\n",
    "`n` = No. of swatches made by the program in the intermediate steps are n x n<br />\n",
    "<br />\n",
    "\n",
    "##### Parameters used for calculating average color of pixels (ranging from 0.0 to1.0)\n",
    "`weighted_avg_effect` = Weight given to luminance and saturation of a pixel when calculating average color (range: 0.0 - 1.0) *<br />\n",
    "\\* Pixel with 50% luminance gets highest weight.<br />\n",
    "When set 0.0, weighted average will behave like normal average function\n",
    "<br />\n",
    "##### Parameters used for choosing best-swatch (ranging from 0.0 to1.0, sum = 1.0)\n",
    "`vibrant_weight` = Weight given to saturation/luminance of a swatch when choosing best swatch<br />\n",
    "\\* When set to 0.0, the selected swatch will look close to weighted average color<br />\n",
    "\\* When set to 1.0, the selected swatch will be the most attention gaining (vibrant) swatch<br/>\n",
    "<br />\n",
    "##### Parameters used for transforming best-swatch to output\n",
    "`L_min_threshold` = Min. luminance required for output color (0 - 255)<br />\n",
    "`L_max_threshold` = Max. luminance required for output color (0 - 255)<br />\n",
    "`S_value` = Saturation multiplier for output color (0.0 - 1.0)<br />"
   ]
  },
  {
   "cell_type": "markdown",
   "id": "4d886feb",
   "metadata": {},
   "source": [
    "**Note:** Place your images in `albumarts` folder (create the folder if not present). Set the img_name to the sample image you want to test"
   ]
  },
  {
   "cell_type": "code",
   "execution_count": null,
   "id": "db549412",
   "metadata": {},
   "outputs": [],
   "source": [
    "import numpy as np\n",
    "import math\n",
    "from utils import display,compare,hls2rgb,rgb2hls,read_image_rgb\n",
    "import os\n",
    "\n",
    "%matplotlib inline"
   ]
  },
  {
   "cell_type": "code",
   "execution_count": null,
   "id": "da97e545",
   "metadata": {},
   "outputs": [],
   "source": [
    "n = 8 # no. of swatches = n x n (the higher this number, better the result, typically set in range 5 - 15)\n",
    "\n",
    "# Parameters for averaging\n",
    "weighted_avg_effect = 1. # weight given to saturation and luminance of a color when computing averages\n",
    "\n",
    "# Parameters for choosing best-swatch (if set to 0.0, average color will be given preference, if set to 1.0 vidvidness will be given preference)\n",
    "vibrant_weight = 0.6\n",
    "\n",
    "# Parameters used while transforming\n",
    "L_min_threshold = 48\n",
    "L_max_threshold = 128\n",
    "S_value = 1.0"
   ]
  },
  {
   "cell_type": "code",
   "execution_count": null,
   "id": "2d6e7a76",
   "metadata": {},
   "outputs": [],
   "source": [
    "sample_dir = 'albumarts/' # directory where test iamges are stored\n",
    "img_name = \"art-1.png\"\n",
    "test_image_path = sample_dir + img_name"
   ]
  },
  {
   "cell_type": "markdown",
   "id": "890b3892",
   "metadata": {},
   "source": [
    "# Average Color"
   ]
  },
  {
   "cell_type": "code",
   "execution_count": null,
   "id": "6cd10183",
   "metadata": {},
   "outputs": [],
   "source": [
    "def get_weights(hls_image, w = weighted_avg_effect):\n",
    "    l_weights = 1. - (abs(hls_image[:,:,1] - 127.5) / 127.5)\n",
    "    s_weights = hls_image[:,:,2] / 255\n",
    "    return (w * np.sqrt(l_weights * s_weights)) + (1 - w)"
   ]
  },
  {
   "cell_type": "code",
   "execution_count": null,
   "id": "9409bdd6",
   "metadata": {},
   "outputs": [],
   "source": [
    "def get_weighted_average_color(rgb_image, hls_image, w = weighted_avg_effect, EPSILON = 10e-6):\n",
    "    weights = get_weights(hls_image, w=w)\n",
    "    A1 = rgb_image * weights[..., np.newaxis]\n",
    "    A2 = np.sum(A1, axis=0)\n",
    "    A3 = np.sum(A2, axis=0)\n",
    "    A4 = A3 / (np.sum(weights) + EPSILON)\n",
    "    \n",
    "    rgb_color = A4.reshape(1,1,3).astype('uint8')\n",
    "    hls_color = rgb2hls(rgb_color)\n",
    "    \n",
    "    return rgb_color, hls_color"
   ]
  },
  {
   "cell_type": "code",
   "execution_count": null,
   "id": "bb5c3c5a",
   "metadata": {},
   "outputs": [],
   "source": [
    "test_image_rgb = read_image_rgb(test_image_path)\n",
    "test_image_hls = rgb2hls(test_image_rgb)\n",
    "\n",
    "display(hls2rgb(test_image_hls), dpi=80)\n",
    "display(get_weights(test_image_hls), cmap=\"gray\", vmin=0., vmax=1., dpi=80)\n",
    "\n",
    "i0  = get_weighted_average_color(test_image_rgb, test_image_hls, w=0.)[0]\n",
    "i100 = get_weighted_average_color(test_image_rgb, test_image_hls, w=1.)[0]\n",
    "\n",
    "compare([i0, i100], labels=[\"Normal average\", \"100% lum. weights\"])"
   ]
  },
  {
   "cell_type": "markdown",
   "id": "e65ba5b5",
   "metadata": {},
   "source": [
    "# Swatches"
   ]
  },
  {
   "cell_type": "code",
   "execution_count": null,
   "id": "a3a40535",
   "metadata": {},
   "outputs": [],
   "source": [
    "def get_swatches(rgb_image, hls_image, num_swatches):\n",
    "    s = num_swatches\n",
    "    \n",
    "    EPSILON = 10e-6\n",
    "    \n",
    "    width = hls_image.shape[1]\n",
    "    height = hls_image.shape[0]\n",
    "    \n",
    "    base_w = math.floor(width / s)\n",
    "    base_h = math.floor(height / s)\n",
    "\n",
    "    hls_boxes = []\n",
    "    rgb_boxes = []\n",
    "\n",
    "    for row in range(s):\n",
    "        for col in range(s):\n",
    "            base_w_adjusted = math.ceil(width / s) if (col + 1 == s) else base_w\n",
    "            base_h_adjusted = math.ceil(height / s) if (row + 1 == s) else base_h\n",
    "\n",
    "            slice_w = slice(col * base_w, (col + 1) * base_w_adjusted)\n",
    "            slice_h = slice(row * base_h, (row + 1) * base_h_adjusted)\n",
    "\n",
    "            hls_boxes.append(hls_image[slice_h, slice_w, :])\n",
    "            rgb_boxes.append(rgb_image[slice_h, slice_w, :])\n",
    "    \n",
    "    hls_swatches = np.array([]).reshape(0).astype('uint8')\n",
    "    rgb_swatches = np.array([]).reshape(0).astype('uint8')\n",
    "    \n",
    "    for hls_box, rgb_box in zip(hls_boxes, rgb_boxes):\n",
    "        swatch_color_rgb, swatch_color_hls = get_weighted_average_color(rgb_box, hls_box)\n",
    "        hls_swatches = np.append(hls_swatches, swatch_color_hls.reshape(3), axis=0)\n",
    "        rgb_swatches = np.append(rgb_swatches, swatch_color_rgb.reshape(3), axis=0)\n",
    "\n",
    "    hls_swatches = hls_swatches.reshape(s, s, 3).astype('uint8')\n",
    "    rgb_swatches = rgb_swatches.reshape(s, s, 3).astype('uint8')\n",
    "    \n",
    "    return rgb_swatches, hls_swatches\n"
   ]
  },
  {
   "cell_type": "code",
   "execution_count": null,
   "id": "d631a5b2",
   "metadata": {},
   "outputs": [],
   "source": [
    "test_rgb = read_image_rgb(test_image_path)\n",
    "test_hls = rgb2hls(test_rgb)\n",
    "test_swatches_rgb, test_swatches_hls = get_swatches(test_rgb, test_hls, n)\n",
    "\n",
    "compare([test_swatches_rgb, get_weighted_average_color(test_swatches_rgb, test_swatches_hls)[0]], labels=[\"Swatches\", \"Average of swatches\"])\n",
    "display(get_weights(test_swatches_hls), cmap=\"gray\", vmin=0., vmax=1., dpi=80)"
   ]
  },
  {
   "cell_type": "markdown",
   "id": "2f20d60a",
   "metadata": {},
   "source": [
    "# Best swatch"
   ]
  },
  {
   "cell_type": "code",
   "execution_count": null,
   "id": "bd16854f",
   "metadata": {},
   "outputs": [],
   "source": [
    "def get_best_swatch(rgb_swatches, hls_swatches, v = vibrant_weight):\n",
    "    s = hls_swatches.shape[0]\n",
    "    avg_color_rgb, avg_color_hls = get_weighted_average_color(rgb_swatches, hls_swatches)\n",
    "    avg_color = avg_color_hls.reshape(3)\n",
    "    \n",
    "    EPSILON = 10e-6\n",
    "    \n",
    "    max_value = 0\n",
    "    best_swatch_hls = np.array([0, 0, 0])\n",
    "    best_swatch_rgb = np.array([0, 0, 0])\n",
    "\n",
    "    for row in range(s):\n",
    "        for col in range(s):\n",
    "            swatch = hls_swatches[row][col]\n",
    "            H,L,S = swatch\n",
    "            \n",
    "            # luminance factor : puts penalty if color is too bright or too dark\n",
    "            L_factor = 1. - (abs(L - 127.5) / 127.5)\n",
    "            \n",
    "            # saturation factor : encourages vibrant colors\n",
    "            S_factor = S / 255\n",
    "            \n",
    "            # dominance factor : prefers color which is more dominant (closer to average color)\n",
    "            D_factor = (1. - (abs(H.astype('int16') - avg_color[0]) / 255))\n",
    "\n",
    "            value = v*(math.sqrt(L_factor*S_factor)) + (1-v)*D_factor\n",
    "\n",
    "            if (value > max_value):\n",
    "                best_swatch_hls = swatch\n",
    "                best_swatch_rgb = rgb_swatches[row][col]\n",
    "                max_value = value\n",
    "\n",
    "    best_swatch_hls = best_swatch_hls.reshape(1, 1, 3).astype('uint8')\n",
    "    best_swatch_rgb = best_swatch_rgb.reshape(1, 1, 3).astype('uint8')\n",
    "    \n",
    "    return best_swatch_rgb, best_swatch_hls\n"
   ]
  },
  {
   "cell_type": "code",
   "execution_count": null,
   "id": "28ceeded",
   "metadata": {},
   "outputs": [],
   "source": [
    "test_best_swatch_rgb, test_best_swatch_hls = get_best_swatch(test_swatches_rgb, test_swatches_hls)\n",
    "display(test_best_swatch_rgb)"
   ]
  },
  {
   "cell_type": "markdown",
   "id": "5e592903",
   "metadata": {},
   "source": [
    "# Transformation"
   ]
  },
  {
   "cell_type": "code",
   "execution_count": null,
   "id": "fb948bda",
   "metadata": {},
   "outputs": [],
   "source": [
    "def get_transformed_color(best_swatch_hls):\n",
    "    H,L,S = best_swatch_hls.reshape(3,)\n",
    "    \n",
    "    # use same hue as original color\n",
    "    H1 = H\n",
    "    \n",
    "    # transform 0-255 luminance range to parameterd min-max range\n",
    "    L_hat = L_min_threshold + (L_max_threshold - L_min_threshold) * (L / 255)\n",
    "    \n",
    "    # prefer original luminance if saturation is very high\n",
    "    # otherwise prefer the transformed luminance value, for duller colors\n",
    "    L1 = (1 - S/255) * (L_hat) + (S/255)*(L)\n",
    "    \n",
    "    # transform saturation (multiply by some factor)\n",
    "    S1 = min(255, S * S_value)\n",
    "\n",
    "    output_color = np.array([H1, L1, S1]).reshape(1,1,3).astype('uint8')\n",
    "    \n",
    "    return hls2rgb(output_color), output_color"
   ]
  },
  {
   "cell_type": "code",
   "execution_count": null,
   "id": "a13d9bdf",
   "metadata": {},
   "outputs": [],
   "source": [
    "test_output_color_rgb, test_output_color_hls = get_transformed_color(test_best_swatch_hls)"
   ]
  },
  {
   "cell_type": "code",
   "execution_count": null,
   "id": "61951406",
   "metadata": {},
   "outputs": [],
   "source": [
    "print(f\"Best swatch (HLS): {test_best_swatch_hls}\")\n",
    "print(f\"Final output (HLS): {test_output_color_hls}\")\n",
    "display(test_output_color_rgb)"
   ]
  },
  {
   "cell_type": "markdown",
   "id": "5f56f910",
   "metadata": {},
   "source": [
    "# Summing it all up"
   ]
  },
  {
   "cell_type": "code",
   "execution_count": null,
   "id": "8c978082",
   "metadata": {},
   "outputs": [],
   "source": [
    "def extract_color(image_path):\n",
    "    input_rgb_image = read_image_rgb(image_path)\n",
    "    input_hls_image = rgb2hls(input_rgb_image)\n",
    "    \n",
    "    swatches_rgb, swatches_hls = get_swatches(input_rgb_image, input_hls_image, n)\n",
    "    best_swatch_rgb, best_swatch_hls = get_best_swatch(swatches_rgb, swatches_hls)\n",
    "    output_color_rgb, output_color_hls = get_transformed_color(best_swatch_hls)\n",
    "    \n",
    "    return output_color_rgb"
   ]
  },
  {
   "cell_type": "markdown",
   "id": "c5dfafe3",
   "metadata": {},
   "source": [
    "# Testing"
   ]
  },
  {
   "cell_type": "code",
   "execution_count": null,
   "id": "1379640f",
   "metadata": {},
   "outputs": [],
   "source": [
    "files = list(map(lambda file: sample_dir + file.name, filter(lambda file: file.is_file(), os.scandir(sample_dir))))"
   ]
  },
  {
   "cell_type": "code",
   "execution_count": null,
   "id": "ddc8d096",
   "metadata": {
    "scrolled": true
   },
   "outputs": [],
   "source": [
    "for file in files:\n",
    "    input_rgb_image = read_image_rgb(file)\n",
    "    output_color_rgb = extract_color(file)\n",
    "    \n",
    "    compare([input_rgb_image, output_color_rgb])"
   ]
  },
  {
   "cell_type": "code",
   "execution_count": null,
   "id": "8f501fb0",
   "metadata": {},
   "outputs": [],
   "source": []
  },
  {
   "cell_type": "code",
   "execution_count": null,
   "id": "8a8d7b41",
   "metadata": {},
   "outputs": [],
   "source": []
  }
 ],
 "metadata": {
  "kernelspec": {
   "display_name": "Python 3 (ipykernel)",
   "language": "python",
   "name": "python3"
  },
  "language_info": {
   "codemirror_mode": {
    "name": "ipython",
    "version": 3
   },
   "file_extension": ".py",
   "mimetype": "text/x-python",
   "name": "python",
   "nbconvert_exporter": "python",
   "pygments_lexer": "ipython3",
   "version": "3.8.2"
  }
 },
 "nbformat": 4,
 "nbformat_minor": 5
}
